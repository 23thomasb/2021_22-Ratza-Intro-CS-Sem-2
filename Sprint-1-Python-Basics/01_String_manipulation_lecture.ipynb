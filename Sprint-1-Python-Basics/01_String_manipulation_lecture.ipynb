{
  "cells": [
    {
      "cell_type": "markdown",
      "metadata": {
        "id": "view-in-github",
        "colab_type": "text"
      },
      "source": [
        "<a href=\"https://colab.research.google.com/github/23thomasb/2021_22-Ratza-Intro-CS-Sem-2/blob/main/Sprint-1-Python-Basics/01_String_manipulation_lecture.ipynb\" target=\"_parent\"><img src=\"https://colab.research.google.com/assets/colab-badge.svg\" alt=\"Open In Colab\"/></a>"
      ]
    },
    {
      "cell_type": "markdown",
      "source": [
        "# String Manipulation\n",
        "\n",
        "[Python Docs](https://docs.python.org/3.7/search.html?q=string)\n",
        "\n",
        "We've seen some ways we can manipulate numbers in Python, now let's explore different ways we can interact with strings in Python.\n",
        "\n",
        "Text data in Python is represented using **strings** (think strings of characters), and Python provides various ways of interacting with strings. We've covered some of the basics like adding strings and basic formatting, but let's review."
      ],
      "metadata": {
        "collapsed": false,
        "id": "TTMgRw5jjg6K"
      }
    },
    {
      "cell_type": "code",
      "execution_count": null,
      "metadata": {
        "collapsed": true,
        "id": "gL1AZJkUjg6M"
      },
      "outputs": [],
      "source": [
        ""
      ]
    },
    {
      "cell_type": "markdown",
      "source": [
        "### Built-in Functions\n",
        "\n",
        "Python provides many functions that are built-in to the interpreter and always available. Here are a few that work with strings"
      ],
      "metadata": {
        "collapsed": false,
        "id": "0-g4QzH4jg6N"
      }
    },
    {
      "cell_type": "code",
      "execution_count": null,
      "outputs": [],
      "source": [
        ""
      ],
      "metadata": {
        "pycharm": {
          "name": "#%%\n"
        },
        "id": "kmNvuYFQjg6N"
      }
    },
    {
      "cell_type": "markdown",
      "source": [
        "We can change the characters to upper or lower case."
      ],
      "metadata": {
        "collapsed": false,
        "id": "UsVDu96ajg6O"
      }
    },
    {
      "cell_type": "code",
      "execution_count": null,
      "outputs": [],
      "source": [
        ""
      ],
      "metadata": {
        "pycharm": {
          "name": "#%%\n"
        },
        "id": "rAxy_jcrjg6O"
      }
    },
    {
      "cell_type": "code",
      "execution_count": null,
      "outputs": [],
      "source": [
        ""
      ],
      "metadata": {
        "pycharm": {
          "name": "#%%\n"
        },
        "id": "n9t5zzV-jg6O"
      }
    },
    {
      "cell_type": "code",
      "execution_count": null,
      "outputs": [],
      "source": [
        ""
      ],
      "metadata": {
        "pycharm": {
          "name": "#%%\n"
        },
        "id": "1bTPEtx6jg6O"
      }
    },
    {
      "cell_type": "markdown",
      "source": [
        "We can replace certain characters"
      ],
      "metadata": {
        "collapsed": false,
        "id": "WVhkKa_Ajg6P"
      }
    },
    {
      "cell_type": "code",
      "execution_count": null,
      "outputs": [],
      "source": [
        ""
      ],
      "metadata": {
        "pycharm": {
          "name": "#%%\n"
        },
        "id": "_d4vuqAbjg6P"
      }
    },
    {
      "cell_type": "markdown",
      "source": [
        "We can check if a string could be a numeric type"
      ],
      "metadata": {
        "collapsed": false,
        "id": "rgXF3Dd5jg6P"
      }
    },
    {
      "cell_type": "code",
      "execution_count": null,
      "outputs": [],
      "source": [
        ""
      ],
      "metadata": {
        "pycharm": {
          "name": "#%%\n"
        },
        "id": "-QPnljxvjg6Q"
      }
    },
    {
      "cell_type": "code",
      "execution_count": null,
      "outputs": [],
      "source": [
        ""
      ],
      "metadata": {
        "pycharm": {
          "name": "#%%\n"
        },
        "id": "NqB0E0aejg6Q"
      }
    },
    {
      "cell_type": "markdown",
      "source": [
        "We can check if a string contains a **sub-string**"
      ],
      "metadata": {
        "collapsed": false,
        "id": "GRgJoP_vjg6Q"
      }
    },
    {
      "cell_type": "code",
      "execution_count": null,
      "outputs": [],
      "source": [
        ""
      ],
      "metadata": {
        "pycharm": {
          "name": "#%%\n"
        },
        "id": "_6-LRMh_jg6Q"
      }
    },
    {
      "cell_type": "markdown",
      "source": [
        "We can count the number of times something appears in a string."
      ],
      "metadata": {
        "collapsed": false,
        "id": "ecPm9ZmLjg6Q"
      }
    },
    {
      "cell_type": "code",
      "execution_count": null,
      "outputs": [],
      "source": [
        ""
      ],
      "metadata": {
        "pycharm": {
          "name": "#%%\n"
        },
        "id": "SIASim0zjg6R"
      }
    },
    {
      "cell_type": "markdown",
      "source": [
        "or check if a string starts with another substring"
      ],
      "metadata": {
        "collapsed": false,
        "id": "3q8TJ8ZPjg6R"
      }
    },
    {
      "cell_type": "code",
      "execution_count": null,
      "outputs": [],
      "source": [
        ""
      ],
      "metadata": {
        "pycharm": {
          "name": "#%%\n"
        },
        "id": "RjWuXwV9jg6R"
      }
    },
    {
      "cell_type": "markdown",
      "source": [
        "With `len()`, you can check Python string length"
      ],
      "metadata": {
        "collapsed": false,
        "id": "ArXTq6r9jg6R"
      }
    },
    {
      "cell_type": "code",
      "execution_count": null,
      "outputs": [],
      "source": [
        ""
      ],
      "metadata": {
        "pycharm": {
          "name": "#%%\n"
        },
        "id": "Xtqfj7gIjg6S"
      }
    },
    {
      "cell_type": "markdown",
      "source": [
        "Each character in string has a position similar to how lists behaved in Snap"
      ],
      "metadata": {
        "collapsed": false,
        "id": "ztd32hfdjg6S"
      }
    },
    {
      "cell_type": "code",
      "execution_count": null,
      "outputs": [],
      "source": [
        ""
      ],
      "metadata": {
        "pycharm": {
          "name": "#%%\n"
        },
        "id": "KiUFlhpLjg6S"
      }
    },
    {
      "cell_type": "markdown",
      "source": [
        "We can get the last character with `[-1]`"
      ],
      "metadata": {
        "collapsed": false,
        "id": "t0eCrdi7jg6S"
      }
    },
    {
      "cell_type": "code",
      "execution_count": null,
      "outputs": [],
      "source": [
        ""
      ],
      "metadata": {
        "pycharm": {
          "name": "#%%\n"
        },
        "id": "DaRW_sOCjg6S"
      }
    },
    {
      "cell_type": "markdown",
      "source": [
        "We can also take *slices* from strings, remember in Python we start counting from 0."
      ],
      "metadata": {
        "collapsed": false,
        "id": "BDtL8hKnjg6S"
      }
    },
    {
      "cell_type": "code",
      "execution_count": null,
      "outputs": [],
      "source": [
        ""
      ],
      "metadata": {
        "pycharm": {
          "name": "#%%\n"
        },
        "id": "WMr2Wbucjg6T"
      }
    },
    {
      "cell_type": "code",
      "execution_count": null,
      "outputs": [],
      "source": [
        ""
      ],
      "metadata": {
        "pycharm": {
          "name": "#%%\n"
        },
        "id": "wC5AjrU5jg6T"
      }
    },
    {
      "cell_type": "markdown",
      "source": [
        "There is also a number of tricks for formatting strings"
      ],
      "metadata": {
        "collapsed": false,
        "id": "F5cUhoVQjg6T"
      }
    },
    {
      "cell_type": "code",
      "execution_count": null,
      "outputs": [],
      "source": [
        ""
      ],
      "metadata": {
        "pycharm": {
          "name": "#%%\n"
        },
        "id": "F1UhMyjijg6T"
      }
    },
    {
      "cell_type": "code",
      "execution_count": null,
      "outputs": [],
      "source": [
        ""
      ],
      "metadata": {
        "pycharm": {
          "name": "#%%\n"
        },
        "id": "9RdRTdzUjg6T"
      }
    },
    {
      "cell_type": "code",
      "execution_count": null,
      "outputs": [],
      "source": [
        ""
      ],
      "metadata": {
        "pycharm": {
          "name": "#%%\n"
        },
        "id": "_bSUk4XZjg6T"
      }
    },
    {
      "cell_type": "markdown",
      "source": [
        "If we have a list (we will explore these more later) of strings we can join them together"
      ],
      "metadata": {
        "collapsed": false,
        "id": "Y0VhYll2jg6T"
      }
    },
    {
      "cell_type": "code",
      "execution_count": null,
      "outputs": [],
      "source": [
        ""
      ],
      "metadata": {
        "pycharm": {
          "name": "#%%\n"
        },
        "id": "NDZNtNfdjg6U"
      }
    },
    {
      "cell_type": "code",
      "execution_count": null,
      "outputs": [],
      "source": [
        ""
      ],
      "metadata": {
        "pycharm": {
          "name": "#%%\n"
        },
        "id": "w_syxwRwjg6U"
      }
    },
    {
      "cell_type": "markdown",
      "source": [
        "As you can see there is a lot we can do with strings and rightly so as we tend to interact with text data quite frequently while programming."
      ],
      "metadata": {
        "collapsed": false,
        "pycharm": {
          "name": "#%% md\n"
        },
        "id": "KizTdTjwjg6U"
      }
    }
  ],
  "metadata": {
    "kernelspec": {
      "name": "python3",
      "language": "python",
      "display_name": "Python 3 (ipykernel)"
    },
    "language_info": {
      "codemirror_mode": {
        "name": "ipython",
        "version": 2
      },
      "file_extension": ".py",
      "mimetype": "text/x-python",
      "name": "python",
      "nbconvert_exporter": "python",
      "pygments_lexer": "ipython2",
      "version": "2.7.6"
    },
    "colab": {
      "name": "Notes-1-04-01_String-manipulation-lecture.ipynb",
      "provenance": [],
      "include_colab_link": true
    }
  },
  "nbformat": 4,
  "nbformat_minor": 0
}