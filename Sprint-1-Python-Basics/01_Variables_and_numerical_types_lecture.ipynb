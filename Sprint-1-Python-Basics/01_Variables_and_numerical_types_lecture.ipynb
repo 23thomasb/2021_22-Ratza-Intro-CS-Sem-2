{
  "cells": [
    {
      "cell_type": "markdown",
      "metadata": {
        "id": "view-in-github",
        "colab_type": "text"
      },
      "source": [
        "<a href=\"https://colab.research.google.com/github/23thomasb/2021_22-Ratza-Intro-CS-Sem-2/blob/main/Sprint-1-Python-Basics/01_Variables_and_numerical_types_lecture.ipynb\" target=\"_parent\"><img src=\"https://colab.research.google.com/assets/colab-badge.svg\" alt=\"Open In Colab\"/></a>"
      ]
    },
    {
      "cell_type": "markdown",
      "metadata": {
        "collapsed": true,
        "pycharm": {
          "name": "#%% md\n"
        },
        "id": "9hUUg-JKVxyN"
      },
      "source": [
        "# Variables and Numerical Types\n",
        "\n",
        "In Python everything is an `object`. This will make more sense as we go on but for now it's enough\n",
        "to understand that every `object` has a type, even object itself has a type (of type, type - confusing I know).\n",
        "This tells us what kind of data the object contains. Let's try this with some simple examples."
      ]
    },
    {
      "cell_type": "code",
      "source": [
        "greeting=\"hello\"\n",
        "\n",
        "type(5)"
      ],
      "metadata": {
        "colab": {
          "base_uri": "https://localhost:8080/"
        },
        "id": "E0wxvbeEWKF6",
        "outputId": "3a14c985-150b-4b7c-fb78-548951c0f196"
      },
      "execution_count": null,
      "outputs": [
        {
          "output_type": "execute_result",
          "data": {
            "text/plain": [
              "int"
            ]
          },
          "metadata": {},
          "execution_count": 2
        }
      ]
    },
    {
      "cell_type": "markdown",
      "source": [
        "To make our code more readable we can assign names to our objects and reference them as variables using the assignment operator `=`. Just like in the last lesson."
      ],
      "metadata": {
        "collapsed": false,
        "pycharm": {
          "name": "#%% md\n"
        },
        "id": "ncCAaQCKVxyW"
      }
    },
    {
      "cell_type": "code",
      "source": [
        "some_var=\"hello\"\n",
        "\n",
        "print(some_var)\n",
        "\n",
        "some_var=15\n",
        "\n",
        "print(some_var)\n",
        "\n",
        "some_var = \"hello again\"\n",
        "\n",
        "print(some_var)"
      ],
      "metadata": {
        "colab": {
          "base_uri": "https://localhost:8080/"
        },
        "id": "kneNYL1ZWpWf",
        "outputId": "9c934c7e-5c53-46e8-b508-9f83579a67d9"
      },
      "execution_count": null,
      "outputs": [
        {
          "output_type": "stream",
          "name": "stdout",
          "text": [
            "hello\n",
            "15\n",
            "hello again\n"
          ]
        }
      ]
    },
    {
      "cell_type": "markdown",
      "source": [
        "This can be thought of as reading the sentence 'greeting is \"Hello\".'\n",
        "\n",
        "In Python variables can be reassigned at will. This has to do with the concept of mutability. In some languages there are both mutable and immutable variables. A mutable, or changeable, variable can be reassigned as desired, but an immutable variable is unchanging and cannot be reassigned. In Python variables are for the most part mutable, however it is possible to emulate immutability in Python if desired."
      ],
      "metadata": {
        "collapsed": false,
        "id": "cNBbExvWVxyY"
      }
    },
    {
      "cell_type": "markdown",
      "source": [
        "We can assign variables using other variables as well."
      ],
      "metadata": {
        "collapsed": false,
        "id": "swBgHPehVxyZ"
      }
    },
    {
      "cell_type": "markdown",
      "source": [
        "We want to be careful when declaring variables in Python because while these behaviours are extremely helpful they can also cause our programs to behave unexpectedly at runtime if we are not careful."
      ],
      "metadata": {
        "collapsed": false,
        "id": "nTfhdu00VxyZ"
      }
    },
    {
      "cell_type": "code",
      "source": [
        "greeting = \"hello\"\n",
        "name = \"Benson\"\n",
        "\n",
        "\n",
        "custom_greeting = f\"{greeting}, {name}.\"\n",
        "\n",
        "print(custom_greeting)\n",
        "\n",
        "greeting = \"hi\"\n",
        "\n",
        "print(custom_greeting)"
      ],
      "metadata": {
        "colab": {
          "base_uri": "https://localhost:8080/"
        },
        "id": "2I0rtPaPX0iM",
        "outputId": "f7d3915e-5783-44e7-ab09-b834e01d364a"
      },
      "execution_count": null,
      "outputs": [
        {
          "output_type": "stream",
          "name": "stdout",
          "text": [
            "hello, Benson.\n",
            "hello, Benson.\n"
          ]
        }
      ]
    },
    {
      "cell_type": "markdown",
      "source": [
        "Notice how the `custom_greeting` still uses the value of `greeting` as it existed at the time it was assigned."
      ],
      "metadata": {
        "collapsed": false,
        "id": "PxDu_7DRVxya"
      }
    },
    {
      "cell_type": "markdown",
      "source": [
        "In Python, we can also chain assignments to assign multiple variables at the same time, this is known as chained assignment."
      ],
      "metadata": {
        "collapsed": false,
        "id": "HKMK0l3rVxyb"
      }
    },
    {
      "cell_type": "code",
      "source": [
        "greeting1 = greeting2 = greeting3 = \"hello\"\n",
        "\n",
        "print(greeting1)\n",
        "print(greeting2)\n",
        "print(greeting3)\n",
        "\n",
        "greeting1 = \"hi\"\n"
      ],
      "metadata": {
        "colab": {
          "base_uri": "https://localhost:8080/"
        },
        "id": "6EPj6RyIYwn8",
        "outputId": "e7538488-e051-44da-ae38-48bb1450dc7b"
      },
      "execution_count": null,
      "outputs": [
        {
          "output_type": "stream",
          "name": "stdout",
          "text": [
            "hello\n",
            "hello\n",
            "hello\n"
          ]
        }
      ]
    },
    {
      "cell_type": "markdown",
      "source": [
        "Sometimes we may need to assign variables to two different things at the same time we can do that as well"
      ],
      "metadata": {
        "collapsed": false,
        "id": "uv9yCblwVxyc"
      }
    },
    {
      "cell_type": "code",
      "source": [
        "greeting1 = greeting2 = \"hello, hi\"\n",
        "\n",
        "print(greeting1)\n",
        "print(greeting2)"
      ],
      "metadata": {
        "colab": {
          "base_uri": "https://localhost:8080/"
        },
        "id": "7AEgr50RZG3c",
        "outputId": "c4f3a805-0bc5-4abd-c802-e0de16aa6979"
      },
      "execution_count": null,
      "outputs": [
        {
          "output_type": "stream",
          "name": "stdout",
          "text": [
            "hello, hi\n",
            "hello, hi\n"
          ]
        }
      ]
    },
    {
      "cell_type": "markdown",
      "source": [
        "There are some rules and guidelines about what we can name variables. In Python, variables must begin with a letter or underscore (underscores are for private variables). [PEP8](https://www.python.org/dev/peps/pep-0008/#naming-conventions) outlines the various naming conventions used by Python developers.\n",
        "\n",
        "In addition to these guidelines there are also reserved keywords which have specific meaning to the Python interpreter:\n",
        "\n",
        "\n",
        "Python\n",
        "Keywords\n",
        "```python\n",
        "False\tdef\tif\traise\n",
        "None\tdel\timport\treturn\n",
        "True\telif\tin\ttry\n",
        "and\telse\tis\twhile\n",
        "as\texcept\tlambda\twith\n",
        "assert\tfinally\tnonlocal\tyield\n",
        "break\tfor\tnot\n",
        "class\tfrom\tor\n",
        "continue\tglobal\tpass\n",
        "```"
      ],
      "metadata": {
        "collapsed": false,
        "id": "ztIZToCHVxye"
      }
    },
    {
      "cell_type": "code",
      "source": [
        "False = \"no\""
      ],
      "metadata": {
        "colab": {
          "base_uri": "https://localhost:8080/",
          "height": 130
        },
        "id": "JHLTnFvZZ815",
        "outputId": "b121f2aa-dd8a-4644-fbfe-45490097b277"
      },
      "execution_count": null,
      "outputs": [
        {
          "output_type": "error",
          "ename": "SyntaxError",
          "evalue": "ignored",
          "traceback": [
            "\u001b[0;36m  File \u001b[0;32m\"<ipython-input-15-e3952d5ece80>\"\u001b[0;36m, line \u001b[0;32m1\u001b[0m\n\u001b[0;31m    False = \"no\"\u001b[0m\n\u001b[0m                ^\u001b[0m\n\u001b[0;31mSyntaxError\u001b[0m\u001b[0;31m:\u001b[0m can't assign to keyword\n"
          ]
        }
      ]
    },
    {
      "cell_type": "markdown",
      "source": [
        "### Numerical Types\n",
        "\n",
        "Lets cover some basics about working with numbers in Python. There are two main numerical types in Python: integers and floats."
      ],
      "metadata": {
        "collapsed": false,
        "id": "QtB252FqVxyf"
      }
    },
    {
      "cell_type": "code",
      "source": [
        "type(1)"
      ],
      "metadata": {
        "colab": {
          "base_uri": "https://localhost:8080/"
        },
        "id": "hzb_fS2KaHdB",
        "outputId": "d32bf173-9e29-4479-b301-995ab6eb0811"
      },
      "execution_count": null,
      "outputs": [
        {
          "output_type": "execute_result",
          "data": {
            "text/plain": [
              "int"
            ]
          },
          "metadata": {},
          "execution_count": 16
        }
      ]
    },
    {
      "cell_type": "code",
      "source": [
        "type(1.0)"
      ],
      "metadata": {
        "colab": {
          "base_uri": "https://localhost:8080/"
        },
        "id": "uh9VrDc9aKxz",
        "outputId": "0aa2dbb4-4c8e-4135-f522-0e5c30576fc7"
      },
      "execution_count": null,
      "outputs": [
        {
          "output_type": "execute_result",
          "data": {
            "text/plain": [
              "float"
            ]
          },
          "metadata": {},
          "execution_count": 17
        }
      ]
    },
    {
      "cell_type": "code",
      "source": [
        "str(1)"
      ],
      "metadata": {
        "colab": {
          "base_uri": "https://localhost:8080/",
          "height": 35
        },
        "id": "HzTtdrmJaWwC",
        "outputId": "f58fec1a-651c-483f-f3a4-065619cc0bcf"
      },
      "execution_count": null,
      "outputs": [
        {
          "output_type": "execute_result",
          "data": {
            "application/vnd.google.colaboratory.intrinsic+json": {
              "type": "string"
            },
            "text/plain": [
              "'1'"
            ]
          },
          "metadata": {},
          "execution_count": 19
        }
      ]
    },
    {
      "cell_type": "markdown",
      "source": [
        "The only limit to how long and integer can be is the memory available to the machine, in addition to standard notation Python supports scientific notation"
      ],
      "metadata": {
        "collapsed": false,
        "id": "TI3qQJJDVxyg"
      }
    },
    {
      "cell_type": "code",
      "source": [
        "9999999999999999999999999999999999999999+1"
      ],
      "metadata": {
        "colab": {
          "base_uri": "https://localhost:8080/"
        },
        "id": "FDx56iEfabme",
        "outputId": "c4ef2dea-e1e7-444a-b553-2cf6f8371d34"
      },
      "execution_count": null,
      "outputs": [
        {
          "output_type": "execute_result",
          "data": {
            "text/plain": [
              "10000000000000000000000000000000000000000"
            ]
          },
          "metadata": {},
          "execution_count": 20
        }
      ]
    },
    {
      "cell_type": "code",
      "source": [
        "10e100"
      ],
      "metadata": {
        "colab": {
          "base_uri": "https://localhost:8080/"
        },
        "id": "JmXR-mtkamyH",
        "outputId": "70f0fa75-0b04-413f-810c-d14c6cf3acd2"
      },
      "execution_count": null,
      "outputs": [
        {
          "output_type": "execute_result",
          "data": {
            "text/plain": [
              "1e+101"
            ]
          },
          "metadata": {},
          "execution_count": 21
        }
      ]
    },
    {
      "cell_type": "code",
      "source": [
        "10**100"
      ],
      "metadata": {
        "colab": {
          "base_uri": "https://localhost:8080/"
        },
        "id": "uybRl-gharAu",
        "outputId": "8cc307c0-e6ae-4004-8593-f4841d2e34eb"
      },
      "execution_count": null,
      "outputs": [
        {
          "output_type": "execute_result",
          "data": {
            "text/plain": [
              "10000000000000000000000000000000000000000000000000000000000000000000000000000000000000000000000000000"
            ]
          },
          "metadata": {},
          "execution_count": 22
        }
      ]
    },
    {
      "cell_type": "markdown",
      "source": [
        "Notice above that the two representations are not equal this is because of imprecision in converting between binary and base 10 systems.\n",
        "\n",
        "The maximum value of a float in Python is $1.8 * 10^{308}$"
      ],
      "metadata": {
        "collapsed": false,
        "id": "8GM_u1_jVxyh"
      }
    },
    {
      "cell_type": "code",
      "source": [
        "1.79*10**308"
      ],
      "metadata": {
        "colab": {
          "base_uri": "https://localhost:8080/"
        },
        "id": "wxM5F6taauy_",
        "outputId": "ae4cd646-cacb-4655-9cb6-690549766613"
      },
      "execution_count": null,
      "outputs": [
        {
          "output_type": "execute_result",
          "data": {
            "text/plain": [
              "1.79e+308"
            ]
          },
          "metadata": {},
          "execution_count": 25
        }
      ]
    },
    {
      "cell_type": "code",
      "source": [
        "1.80*10**308"
      ],
      "metadata": {
        "colab": {
          "base_uri": "https://localhost:8080/"
        },
        "id": "LG5aXfUka8Y9",
        "outputId": "2195796f-31c7-44b9-bfe0-26104ea8adeb"
      },
      "execution_count": null,
      "outputs": [
        {
          "output_type": "execute_result",
          "data": {
            "text/plain": [
              "inf"
            ]
          },
          "metadata": {},
          "execution_count": 26
        }
      ]
    },
    {
      "cell_type": "markdown",
      "source": [
        "Anything larger than that is represented as infinity"
      ],
      "metadata": {
        "collapsed": false,
        "id": "c0kGpoQ3Vxyi"
      }
    },
    {
      "cell_type": "markdown",
      "source": [
        "In Python we can also represent complex numbers"
      ],
      "metadata": {
        "collapsed": false,
        "id": "_957gotmVxyi"
      }
    },
    {
      "cell_type": "code",
      "source": [
        "8j+4"
      ],
      "metadata": {
        "colab": {
          "base_uri": "https://localhost:8080/"
        },
        "id": "B4e3VSyua_1V",
        "outputId": "5fffdd15-d48e-4a00-ecab-76d2f90f84b3"
      },
      "execution_count": null,
      "outputs": [
        {
          "output_type": "execute_result",
          "data": {
            "text/plain": [
              "(4+8j)"
            ]
          },
          "metadata": {},
          "execution_count": 27
        }
      ]
    },
    {
      "cell_type": "code",
      "source": [
        "j = (4-12)/8\n",
        "\n",
        "j"
      ],
      "metadata": {
        "colab": {
          "base_uri": "https://localhost:8080/"
        },
        "id": "jh9Mmi8KbL60",
        "outputId": "6a22ccf0-44a7-4f7e-903a-34c854d373f7"
      },
      "execution_count": null,
      "outputs": [
        {
          "output_type": "execute_result",
          "data": {
            "text/plain": [
              "-1.0"
            ]
          },
          "metadata": {},
          "execution_count": 34
        }
      ]
    },
    {
      "cell_type": "markdown",
      "source": [
        "Complex numbers have a real and imaginary component"
      ],
      "metadata": {
        "collapsed": false,
        "id": "UkdMOlovVxyj"
      }
    },
    {
      "cell_type": "code",
      "source": [
        "8j.imag"
      ],
      "metadata": {
        "colab": {
          "base_uri": "https://localhost:8080/"
        },
        "id": "pxum3M3AbEr1",
        "outputId": "783e1a4b-1390-45c7-e071-0db2fbb144d5"
      },
      "execution_count": null,
      "outputs": [
        {
          "output_type": "execute_result",
          "data": {
            "text/plain": [
              "8.0"
            ]
          },
          "metadata": {},
          "execution_count": 29
        }
      ]
    },
    {
      "cell_type": "markdown",
      "source": [
        "If we wanted to find out the value of j when h is equal 12"
      ],
      "metadata": {
        "collapsed": false,
        "pycharm": {
          "name": "#%% md\n"
        },
        "id": "_05Pb_i0Vxyj"
      }
    }
  ],
  "metadata": {
    "kernelspec": {
      "name": "python3",
      "language": "python",
      "display_name": "Python 3 (ipykernel)"
    },
    "language_info": {
      "codemirror_mode": {
        "name": "ipython",
        "version": 2
      },
      "file_extension": ".py",
      "mimetype": "text/x-python",
      "name": "python",
      "nbconvert_exporter": "python",
      "pygments_lexer": "ipython2",
      "version": "2.7.6"
    },
    "colab": {
      "name": "BENSON THOMAS - Copy of 01_Variables-and-numerical-types-lecture.ipynb",
      "provenance": [],
      "collapsed_sections": [],
      "include_colab_link": true
    }
  },
  "nbformat": 4,
  "nbformat_minor": 0
}